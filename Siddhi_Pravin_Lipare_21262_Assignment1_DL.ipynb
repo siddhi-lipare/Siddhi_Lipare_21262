{
  "nbformat": 4,
  "nbformat_minor": 0,
  "metadata": {
    "colab": {
      "provenance": [],
      "gpuType": "T4"
    },
    "kernelspec": {
      "name": "python3",
      "display_name": "Python 3"
    },
    "language_info": {
      "name": "python"
    },
    "accelerator": "GPU"
  },
  "cells": [
    {
      "cell_type": "markdown",
      "source": [
        "## **Q3 Code**"
      ],
      "metadata": {
        "id": "TAHLDLej7fDx"
      }
    },
    {
      "cell_type": "code",
      "execution_count": null,
      "metadata": {
        "colab": {
          "base_uri": "https://localhost:8080/"
        },
        "id": "CLt7dx6-6yvi",
        "outputId": "c8edbb73-2fdc-4067-a786-40ac1d37fe6c"
      },
      "outputs": [
        {
          "output_type": "stream",
          "name": "stdout",
          "text": [
            "Epoch 1/10\n",
            "750/750 [==============================] - 9s 11ms/step - loss: 0.2595 - accuracy: 0.9250 - val_loss: 0.1399 - val_accuracy: 0.9570\n",
            "Epoch 2/10\n",
            "750/750 [==============================] - 6s 8ms/step - loss: 0.0986 - accuracy: 0.9691 - val_loss: 0.1162 - val_accuracy: 0.9646\n",
            "Epoch 3/10\n",
            "750/750 [==============================] - 6s 8ms/step - loss: 0.0646 - accuracy: 0.9799 - val_loss: 0.0823 - val_accuracy: 0.9757\n",
            "Epoch 4/10\n",
            "750/750 [==============================] - 5s 7ms/step - loss: 0.0471 - accuracy: 0.9853 - val_loss: 0.0891 - val_accuracy: 0.9734\n",
            "Epoch 5/10\n",
            "750/750 [==============================] - 6s 8ms/step - loss: 0.0369 - accuracy: 0.9881 - val_loss: 0.0901 - val_accuracy: 0.9753\n",
            "Epoch 6/10\n",
            "750/750 [==============================] - 6s 9ms/step - loss: 0.0270 - accuracy: 0.9914 - val_loss: 0.1032 - val_accuracy: 0.9729\n",
            "Epoch 7/10\n",
            "750/750 [==============================] - 6s 8ms/step - loss: 0.0251 - accuracy: 0.9917 - val_loss: 0.0799 - val_accuracy: 0.9779\n",
            "Epoch 8/10\n",
            "750/750 [==============================] - 5s 7ms/step - loss: 0.0185 - accuracy: 0.9940 - val_loss: 0.0802 - val_accuracy: 0.9793\n",
            "Epoch 9/10\n",
            "750/750 [==============================] - 6s 8ms/step - loss: 0.0180 - accuracy: 0.9937 - val_loss: 0.1041 - val_accuracy: 0.9761\n",
            "Epoch 10/10\n",
            "750/750 [==============================] - 5s 7ms/step - loss: 0.0171 - accuracy: 0.9941 - val_loss: 0.0946 - val_accuracy: 0.9770\n",
            "313/313 [==============================] - 1s 2ms/step - loss: 0.0890 - accuracy: 0.9778\n",
            "Test accuracy: 0.9778000116348267\n"
          ]
        }
      ],
      "source": [
        "import tensorflow as tf\n",
        "from tensorflow.keras import layers, models\n",
        "from tensorflow.keras.datasets import mnist\n",
        "from sklearn.model_selection import train_test_split\n",
        "\n",
        "(train_images, train_labels), (test_images, test_labels) = mnist.load_data()\n",
        "\n",
        "train_images, test_images = train_images / 255.0, test_images / 255.0  # Normalising pixel values to bring between 0 and 1\n",
        "\n",
        "train_images_flat = train_images.reshape((train_images.shape[0], -1))\n",
        "test_images_flat = test_images.reshape((test_images.shape[0], -1))\n",
        "\n",
        "train_images_flat, val_images_flat, train_labels, val_labels = train_test_split(train_images_flat, train_labels, test_size=0.2, random_state=42)\n",
        "\n",
        "model = models.Sequential([\n",
        "    layers.Dense(256, activation='relu', input_shape=(784,)),\n",
        "    layers.Dense(128, activation='relu'),\n",
        "    layers.Dense(10, activation='softmax')\n",
        "])\n",
        "\n",
        "model.compile(optimizer='adam',\n",
        "              loss='sparse_categorical_crossentropy',\n",
        "              metrics=['accuracy'])\n",
        "\n",
        "history = model.fit(train_images_flat, train_labels, epochs=10, batch_size=64, validation_data=(val_images_flat, val_labels))\n",
        "\n",
        "test_loss, test_acc = model.evaluate(test_images_flat, test_labels)\n",
        "print(f'Test accuracy: {test_acc}')\n"
      ]
    },
    {
      "cell_type": "markdown",
      "source": [
        "## **Q4 Code**"
      ],
      "metadata": {
        "id": "SD3I8jomgx_I"
      }
    },
    {
      "cell_type": "code",
      "source": [
        "import torch\n",
        "import torch.nn as nn\n",
        "import torch.optim as optim\n",
        "from torchvision import datasets, transforms, models\n",
        "from torch.utils.data import DataLoader, random_split\n",
        "\n",
        "preprocess_transform = transforms.Compose([\n",
        "    transforms.Resize((224, 224)),  # Resize images to fit models' input size\n",
        "    transforms.ToTensor(),\n",
        "    transforms.Normalize(mean=[0.485, 0.456, 0.406], std=[0.229, 0.224, 0.225]),\n",
        "])\n",
        "\n",
        "svhn_train_data = datasets.SVHN(root='./data', split='train', download=True, transform=preprocess_transform)\n",
        "svhn_test_data = datasets.SVHN(root='./data', split='test', download=True, transform=preprocess_transform)\n",
        "\n",
        "subset_indices = torch.randperm(len(svhn_train_data))[:len(svhn_train_data)//4] # Used only 1/4th data to reduce computation time\n",
        "svhn_train_subset = torch.utils.data.Subset(svhn_train_data, subset_indices)\n",
        "\n",
        "train_loader = DataLoader(svhn_train_subset, batch_size=64, shuffle=True)\n",
        "test_loader = DataLoader(svhn_test_data, batch_size=64, shuffle=False)\n",
        "\n",
        "models_dict = {\n",
        "\n",
        "    'AlexNet': models.alexnet(),\n",
        "    'VGG-11': models.vgg11(),\n",
        "    'ResNet-101': models.resnet101(),\n",
        "    'ResNet-18': models.resnet18()\n",
        "}\n",
        "\n",
        "for model_name, model in models_dict.items():\n",
        "\n",
        "    if 'resnet' in model_name.lower():\n",
        "        num_ftrs = model.fc.in_features\n",
        "        model.fc = nn.Linear(num_ftrs, 10)\n",
        "    else:\n",
        "        num_ftrs = model.classifier[-1].in_features\n",
        "        model.classifier[-1] = nn.Linear(num_ftrs, 10)\n",
        "\n",
        "    loss_function = nn.CrossEntropyLoss()\n",
        "    optimizer = optim.Adam(model.parameters(), lr=0.0003)\n",
        "\n",
        "    num_epochs = 3\n",
        "    device = torch.device(\"cuda\" if torch.cuda.is_available() else \"cpu\")\n",
        "    model.to(device)\n",
        "    for epoch in range(num_epochs):\n",
        "        model.train()\n",
        "        running_loss = 0.0\n",
        "        for inputs, labels in train_loader:\n",
        "            inputs, labels = inputs.to(device), labels.to(device)\n",
        "            optimizer.zero_grad()\n",
        "            outputs = model(inputs)\n",
        "            loss = loss_function(outputs, labels)\n",
        "            loss.backward()\n",
        "            optimizer.step()\n",
        "            running_loss += loss.item()\n",
        "        print(f\"{model_name} - Epoch {epoch+1}, Loss: {running_loss/len(train_loader)}\")\n",
        "\n",
        "    model.eval()\n",
        "    correct = 0\n",
        "    total = 0\n",
        "    with torch.no_grad():\n",
        "        for inputs, labels in test_loader:\n",
        "            inputs, labels = inputs.to(device), labels.to(device)\n",
        "            outputs = model(inputs)\n",
        "            _, predicted = torch.max(outputs.data, 1)\n",
        "            total += labels.size(0)\n",
        "            correct += (predicted == labels).sum().item()\n",
        "    print(f\"{model_name} - Accuracy on Test set: {(correct/total)*100:.2f}%\")\n"
      ],
      "metadata": {
        "colab": {
          "base_uri": "https://localhost:8080/"
        },
        "id": "7FrnYP7H7ee_",
        "outputId": "b8e09d3b-f8fd-4a47-ae05-7b8e79a9d366"
      },
      "execution_count": 3,
      "outputs": [
        {
          "output_type": "stream",
          "name": "stdout",
          "text": [
            "Using downloaded and verified file: ./data/train_32x32.mat\n",
            "Using downloaded and verified file: ./data/test_32x32.mat\n",
            "AlexNet - Epoch 1, Loss: 2.154567156934572\n",
            "AlexNet - Epoch 2, Loss: 0.9937725551037008\n",
            "AlexNet - Epoch 3, Loss: 0.5388172589216498\n",
            "AlexNet - Accuracy on Test set: 86.30%\n",
            "VGG-11 - Epoch 1, Loss: 1.8837075731895527\n",
            "VGG-11 - Epoch 2, Loss: 0.5992555627631809\n",
            "VGG-11 - Epoch 3, Loss: 0.385102289323192\n",
            "VGG-11 - Accuracy on Test set: 86.93%\n",
            "ResNet-101 - Epoch 1, Loss: 2.3017203857674415\n",
            "ResNet-101 - Epoch 2, Loss: 1.8214034018616228\n",
            "ResNet-101 - Epoch 3, Loss: 0.6068229930222242\n",
            "ResNet-101 - Accuracy on Test set: 84.98%\n",
            "ResNet-18 - Epoch 1, Loss: 1.3367541245467156\n",
            "ResNet-18 - Epoch 2, Loss: 0.4146528744012221\n",
            "ResNet-18 - Epoch 3, Loss: 0.2930637184231954\n",
            "ResNet-18 - Accuracy on Test set: 87.43%\n"
          ]
        }
      ]
    },
    {
      "cell_type": "code",
      "source": [],
      "metadata": {
        "id": "y88SDqOn-mBL"
      },
      "execution_count": null,
      "outputs": []
    }
  ]
}